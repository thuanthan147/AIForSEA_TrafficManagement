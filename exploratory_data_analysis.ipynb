{
 "cells": [
  {
   "cell_type": "code",
   "execution_count": 1,
   "metadata": {},
   "outputs": [
    {
     "data": {
      "text/html": [
       "        <script type=\"text/javascript\">\n",
       "        window.PlotlyConfig = {MathJaxConfig: 'local'};\n",
       "        if (window.MathJax) {MathJax.Hub.Config({SVG: {font: \"STIX-Web\"}});}\n",
       "        if (typeof require !== 'undefined') {\n",
       "        require.undef(\"plotly\");\n",
       "        requirejs.config({\n",
       "            paths: {\n",
       "                'plotly': ['https://cdn.plot.ly/plotly-latest.min']\n",
       "            }\n",
       "        });\n",
       "        require(['plotly'], function(Plotly) {\n",
       "            window._Plotly = Plotly;\n",
       "        });\n",
       "        }\n",
       "        </script>\n",
       "        "
      ]
     },
     "metadata": {},
     "output_type": "display_data"
    }
   ],
   "source": [
    "from config import DATASET_PATH, DATASET_URL\n",
    "from data_handling import DataHandler\n",
    "from model.feature_engineering.FeatureEngineeringFunction import add_previous_count_hour\n",
    "from model.feature_engineering.FeatureEngineeringFunction import add_previous_count_geo\n",
    "from model.feature_engineering.FeatureEngineeringFunction import add_previous_count_timestamp\n",
    "from model.feature_engineering.FeatureEngineeringFunction import add_statistic_features\n",
    "from model.feature_engineering.FeatureEngineeringFunction import add_time_index\n",
    "from model.feature_engineering.FeatureEngineeringFunction import add_previous_hour_demand_by_geo\n",
    "from model.feature_engineering.FeatureEngineeringFunction import add_previous_day_demand_by_geo\n",
    "\n",
    "from statsmodels.graphics.tsaplots import plot_acf, plot_pacf\n",
    "from lightgbm import LGBMRegressor\n",
    "from sklearn.feature_selection import RFE\n",
    "from sklearn.metrics import mean_squared_error\n",
    "import warnings\n",
    "import os\n",
    "import geohash\n",
    "import matplotlib.pyplot as plt\n",
    "import pickle\n",
    "import time\n",
    "import numpy as np\n",
    "from sklearn.cluster import KMeans\n",
    "import pandas as pd\n",
    "import seaborn as sns\n",
    "\n",
    "import plotly.plotly as py\n",
    "import plotly.graph_objs as go\n",
    "from plotly.offline import download_plotlyjs, init_notebook_mode, plot, iplot\n",
    "\n",
    "init_notebook_mode(connected=True)\n",
    "warnings.filterwarnings(\"ignore\")\n",
    "%matplotlib inline"
   ]
  },
  {
   "cell_type": "code",
   "execution_count": 2,
   "metadata": {},
   "outputs": [],
   "source": [
    "def load_dataframe():\n",
    "    data_handler = DataHandler()\n",
    "    data_handler.download_dataset(DATASET_URL, DATASET_PATH)\n",
    "    data_handler.extract_file(data_handler.file_name, \n",
    "                          data_handler.file_path, \n",
    "                          data_handler.folder_path)\n",
    "    FULL_PATH = DATASET_PATH + \"Traffic Management/training.csv\"\n",
    "    \n",
    "    print(FULL_PATH)\n",
    "    \n",
    "    return data_handler.load_dataset(FULL_PATH)"
   ]
  },
  {
   "cell_type": "markdown",
   "metadata": {},
   "source": [
    "# Exploratory Data Analysis"
   ]
  },
  {
   "cell_type": "code",
   "execution_count": 3,
   "metadata": {},
   "outputs": [
    {
     "name": "stdout",
     "output_type": "stream",
     "text": [
      "Checking if path exist\n",
      "File has been downloaded!\n",
      "Done! Here are the extracted files/ folders\n",
      "Traffic Management\n",
      "./data/traffic_management/Traffic Management/training.csv\n"
     ]
    }
   ],
   "source": [
    "df = load_dataframe()\n",
    "# df = df[df['day'] < 5]"
   ]
  },
  {
   "cell_type": "markdown",
   "metadata": {},
   "source": [
    "## Examing count for each feature"
   ]
  },
  {
   "cell_type": "markdown",
   "metadata": {},
   "source": [
    "First we generate count features. These feature are based on the total number of a specific feature from the original dataset (the count of the current geohash6 on the previous day, the total instants on the previous hour, ...)\n",
    "\n",
    "Below is the basic function for generate this kind of feature, which generate lag of 7 previous day and rolling statistic with step 1 and window size of 4\n",
    "\n",
    "(If there were more time, i'd love to example these feature more carefully)"
   ]
  },
  {
   "cell_type": "code",
   "execution_count": 6,
   "metadata": {},
   "outputs": [],
   "source": [
    "def add_additional_statistic_feature(df, raw_feature_name):\n",
    "    if raw_feature_name == \"day_over_hour\":\n",
    "        df = add_previous_count_hour(df, lag_num=1)\n",
    "        df = add_previous_count_hour(df, lag_num=2)\n",
    "        df = add_previous_count_hour(df, lag_num=3)\n",
    "        df = add_previous_count_hour(df, lag_num=4)\n",
    "        df = add_previous_count_hour(df, lag_num=5)\n",
    "        df = add_previous_count_hour(df, lag_num=6)\n",
    "        df = add_previous_count_hour(df, lag_num=7)\n",
    "    \n",
    "    elif raw_feature_name == \"day_over_geo\":\n",
    "        df = add_previous_count_geo(df, lag_num=1)\n",
    "        df = add_previous_count_geo(df, lag_num=2)\n",
    "        df = add_previous_count_geo(df, lag_num=3)\n",
    "        df = add_previous_count_geo(df, lag_num=4)\n",
    "        df = add_previous_count_geo(df, lag_num=5)\n",
    "        df = add_previous_count_geo(df, lag_num=6)\n",
    "        df = add_previous_count_geo(df, lag_num=7)\n",
    "\n",
    "    elif raw_feature_name == \"day_over_timestamp\":\n",
    "        df = add_previous_count_timestamp(df, lag_num=1)\n",
    "        df = add_previous_count_timestamp(df, lag_num=2)\n",
    "        df = add_previous_count_timestamp(df, lag_num=3)\n",
    "        df = add_previous_count_timestamp(df, lag_num=4)\n",
    "        df = add_previous_count_timestamp(df, lag_num=5)\n",
    "        df = add_previous_count_timestamp(df, lag_num=6)\n",
    "        df = add_previous_count_timestamp(df, lag_num=7)\n",
    "\n",
    "    for i in range(1, 4):\n",
    "        df = add_statistic_features(df, raw_feature_name=raw_feature_name, \n",
    "                                                             start_time=i, \n",
    "                                                             time_range=4)\n",
    "        return df"
   ]
  },
  {
   "cell_type": "code",
   "execution_count": 23,
   "metadata": {},
   "outputs": [],
   "source": [
    "def check_effect_count(df, feature_name):\n",
    "    check_df = df # This is a holder dataframe\n",
    "    \n",
    "    # Create input and label \n",
    "    y = check_df['demand'].values\n",
    "    \n",
    "    df_without_demand = check_df.drop(columns=['demand'])\n",
    "    X = df_without_demand.values\n",
    "    \n",
    "    \n",
    "    \n",
    "    # Create LGBM model\n",
    "    evaluator = LGBMRegressor()\n",
    "    evaluator.fit(X, y)\n",
    "    y_hat = evaluator.predict(X)\n",
    "    print(\"Current MSE: \" + str(mean_squared_error(y, y_hat)))\n",
    "    # Get and plot importance\n",
    "    importance = evaluator.feature_importances_\n",
    "    columns = list(df_without_demand.columns)\n",
    "    importance, columns = zip(*sorted(zip(importance, columns),reverse=True)) # Sort decreasing\n",
    "    trace = go.Bar(x=columns, y=importance)\n",
    "#     trace2 = go.Bar(x=columns, )\n",
    "    data = [trace]\n",
    "    layout = go.Layout(\n",
    "        title=go.layout.Title(\n",
    "            text= feature_name + ' importance',\n",
    "            xref='paper',\n",
    "            x=0\n",
    "        ),\n",
    "        xaxis=go.layout.XAxis(\n",
    "            title=go.layout.xaxis.Title(\n",
    "                text='Feature name',\n",
    "                font=dict(\n",
    "                    family='Courier New, monospace',\n",
    "                    size=18,\n",
    "                    color='#7f7f7f'\n",
    "                )\n",
    "            )\n",
    "        ),\n",
    "        yaxis=go.layout.YAxis(\n",
    "            title=go.layout.yaxis.Title(\n",
    "                text='Importance',\n",
    "                font=dict(\n",
    "                    family='Courier New, monospace',\n",
    "                    size=18,\n",
    "                    color='#7f7f7f'\n",
    "                )\n",
    "            )\n",
    "        )\n",
    "    )\n",
    "    fig = go.Figure(data=data, layout=layout)\n",
    "    iplot(fig)\n",
    "    evaluator = None\n",
    "    rfe = RFE(LGBMRegressor())\n",
    "    fit = rfe.fit(X, y)\n",
    "#     evaluator.fit(X, y)\n",
    "    list_of_columns = list(df_without_demand.columns)\n",
    "    support = fit.support_\n",
    "    compare_df = pd.DataFrame({\"columns\":list_of_columns, 'worth':support})\n",
    "    \n",
    "    print(\"RLE result for checking best features: \")\n",
    "    print(compare_df)\n",
    "    selected_feature = compare_df[compare_df['worth'] == True]['columns'].values.tolist()\n",
    "    return selected_feature\n",
    "#     print(fit.support_)"
   ]
  },
  {
   "cell_type": "markdown",
   "metadata": {},
   "source": [
    "To select the best feature for each model, we visualize the importance of each feature with LGBM, then check again with RFE (which we set default to 5 best feature). After visualizing, the best features are written to disk (due to the limit of my computer)."
   ]
  },
  {
   "cell_type": "markdown",
   "metadata": {},
   "source": [
    "### Count by hour"
   ]
  },
  {
   "cell_type": "code",
   "execution_count": 6,
   "metadata": {},
   "outputs": [],
   "source": [
    "df = add_additional_statistic_feature(df, \"day_over_hour\")"
   ]
  },
  {
   "cell_type": "code",
   "execution_count": 7,
   "metadata": {},
   "outputs": [
    {
     "data": {
      "text/html": [
       "<div>\n",
       "<style scoped>\n",
       "    .dataframe tbody tr th:only-of-type {\n",
       "        vertical-align: middle;\n",
       "    }\n",
       "\n",
       "    .dataframe tbody tr th {\n",
       "        vertical-align: top;\n",
       "    }\n",
       "\n",
       "    .dataframe thead th {\n",
       "        text-align: right;\n",
       "    }\n",
       "</style>\n",
       "<table border=\"1\" class=\"dataframe\">\n",
       "  <thead>\n",
       "    <tr style=\"text-align: right;\">\n",
       "      <th></th>\n",
       "      <th>geohash6</th>\n",
       "      <th>day</th>\n",
       "      <th>timestamp</th>\n",
       "      <th>demand</th>\n",
       "      <th>hour</th>\n",
       "      <th>day_over_hour_1</th>\n",
       "      <th>day_over_hour_2</th>\n",
       "      <th>day_over_hour_3</th>\n",
       "      <th>day_over_hour_4</th>\n",
       "      <th>day_over_hour_5</th>\n",
       "      <th>day_over_hour_6</th>\n",
       "      <th>day_over_hour_7</th>\n",
       "      <th>day_over_hour_mean_w_1_5</th>\n",
       "      <th>day_over_hour_min_w_1_5</th>\n",
       "      <th>day_over_hour_max_w_1_5</th>\n",
       "    </tr>\n",
       "  </thead>\n",
       "  <tbody>\n",
       "    <tr>\n",
       "      <th>0</th>\n",
       "      <td>qp03wc</td>\n",
       "      <td>18</td>\n",
       "      <td>20:0</td>\n",
       "      <td>0.020072</td>\n",
       "      <td>20</td>\n",
       "      <td>1299</td>\n",
       "      <td>1248</td>\n",
       "      <td>1179</td>\n",
       "      <td>1198</td>\n",
       "      <td>1116</td>\n",
       "      <td>1149</td>\n",
       "      <td>1336</td>\n",
       "      <td>1208.0</td>\n",
       "      <td>1116</td>\n",
       "      <td>1299</td>\n",
       "    </tr>\n",
       "    <tr>\n",
       "      <th>1</th>\n",
       "      <td>qp03pn</td>\n",
       "      <td>10</td>\n",
       "      <td>14:30</td>\n",
       "      <td>0.024721</td>\n",
       "      <td>14</td>\n",
       "      <td>2697</td>\n",
       "      <td>2920</td>\n",
       "      <td>2864</td>\n",
       "      <td>2790</td>\n",
       "      <td>2926</td>\n",
       "      <td>3156</td>\n",
       "      <td>2857</td>\n",
       "      <td>2839.4</td>\n",
       "      <td>2697</td>\n",
       "      <td>2926</td>\n",
       "    </tr>\n",
       "    <tr>\n",
       "      <th>2</th>\n",
       "      <td>qp09sw</td>\n",
       "      <td>9</td>\n",
       "      <td>6:15</td>\n",
       "      <td>0.102821</td>\n",
       "      <td>6</td>\n",
       "      <td>3766</td>\n",
       "      <td>3673</td>\n",
       "      <td>3470</td>\n",
       "      <td>3653</td>\n",
       "      <td>3807</td>\n",
       "      <td>3637</td>\n",
       "      <td>3674</td>\n",
       "      <td>3673.8</td>\n",
       "      <td>3470</td>\n",
       "      <td>3807</td>\n",
       "    </tr>\n",
       "    <tr>\n",
       "      <th>3</th>\n",
       "      <td>qp0991</td>\n",
       "      <td>32</td>\n",
       "      <td>5:0</td>\n",
       "      <td>0.088755</td>\n",
       "      <td>5</td>\n",
       "      <td>3644</td>\n",
       "      <td>3545</td>\n",
       "      <td>3424</td>\n",
       "      <td>3664</td>\n",
       "      <td>3328</td>\n",
       "      <td>3619</td>\n",
       "      <td>3751</td>\n",
       "      <td>3521.0</td>\n",
       "      <td>3328</td>\n",
       "      <td>3664</td>\n",
       "    </tr>\n",
       "    <tr>\n",
       "      <th>4</th>\n",
       "      <td>qp090q</td>\n",
       "      <td>15</td>\n",
       "      <td>4:0</td>\n",
       "      <td>0.074468</td>\n",
       "      <td>4</td>\n",
       "      <td>3645</td>\n",
       "      <td>3460</td>\n",
       "      <td>3549</td>\n",
       "      <td>3587</td>\n",
       "      <td>3396</td>\n",
       "      <td>3547</td>\n",
       "      <td>3804</td>\n",
       "      <td>3527.4</td>\n",
       "      <td>3396</td>\n",
       "      <td>3645</td>\n",
       "    </tr>\n",
       "    <tr>\n",
       "      <th>5</th>\n",
       "      <td>qp03tu</td>\n",
       "      <td>1</td>\n",
       "      <td>12:15</td>\n",
       "      <td>0.023843</td>\n",
       "      <td>12</td>\n",
       "      <td>0</td>\n",
       "      <td>0</td>\n",
       "      <td>0</td>\n",
       "      <td>0</td>\n",
       "      <td>0</td>\n",
       "      <td>0</td>\n",
       "      <td>0</td>\n",
       "      <td>0.0</td>\n",
       "      <td>0</td>\n",
       "      <td>0</td>\n",
       "    </tr>\n",
       "    <tr>\n",
       "      <th>6</th>\n",
       "      <td>qp096d</td>\n",
       "      <td>25</td>\n",
       "      <td>3:30</td>\n",
       "      <td>0.007460</td>\n",
       "      <td>3</td>\n",
       "      <td>3479</td>\n",
       "      <td>3496</td>\n",
       "      <td>3450</td>\n",
       "      <td>3454</td>\n",
       "      <td>3209</td>\n",
       "      <td>3458</td>\n",
       "      <td>3697</td>\n",
       "      <td>3417.6</td>\n",
       "      <td>3209</td>\n",
       "      <td>3496</td>\n",
       "    </tr>\n",
       "    <tr>\n",
       "      <th>7</th>\n",
       "      <td>qp03nr</td>\n",
       "      <td>51</td>\n",
       "      <td>20:45</td>\n",
       "      <td>0.000293</td>\n",
       "      <td>20</td>\n",
       "      <td>1249</td>\n",
       "      <td>1206</td>\n",
       "      <td>1418</td>\n",
       "      <td>1190</td>\n",
       "      <td>1400</td>\n",
       "      <td>1631</td>\n",
       "      <td>1323</td>\n",
       "      <td>1292.6</td>\n",
       "      <td>1190</td>\n",
       "      <td>1418</td>\n",
       "    </tr>\n",
       "    <tr>\n",
       "      <th>8</th>\n",
       "      <td>qp093r</td>\n",
       "      <td>48</td>\n",
       "      <td>6:15</td>\n",
       "      <td>0.054170</td>\n",
       "      <td>6</td>\n",
       "      <td>3692</td>\n",
       "      <td>3835</td>\n",
       "      <td>3840</td>\n",
       "      <td>3894</td>\n",
       "      <td>3879</td>\n",
       "      <td>3881</td>\n",
       "      <td>3640</td>\n",
       "      <td>3828.0</td>\n",
       "      <td>3692</td>\n",
       "      <td>3894</td>\n",
       "    </tr>\n",
       "    <tr>\n",
       "      <th>9</th>\n",
       "      <td>qp03r2</td>\n",
       "      <td>4</td>\n",
       "      <td>22:15</td>\n",
       "      <td>0.123463</td>\n",
       "      <td>22</td>\n",
       "      <td>2423</td>\n",
       "      <td>2406</td>\n",
       "      <td>2683</td>\n",
       "      <td>0</td>\n",
       "      <td>0</td>\n",
       "      <td>0</td>\n",
       "      <td>0</td>\n",
       "      <td>1502.4</td>\n",
       "      <td>0</td>\n",
       "      <td>2683</td>\n",
       "    </tr>\n",
       "  </tbody>\n",
       "</table>\n",
       "</div>"
      ],
      "text/plain": [
       "  geohash6  day timestamp    demand  hour  day_over_hour_1  day_over_hour_2  \\\n",
       "0   qp03wc   18      20:0  0.020072    20             1299             1248   \n",
       "1   qp03pn   10     14:30  0.024721    14             2697             2920   \n",
       "2   qp09sw    9      6:15  0.102821     6             3766             3673   \n",
       "3   qp0991   32       5:0  0.088755     5             3644             3545   \n",
       "4   qp090q   15       4:0  0.074468     4             3645             3460   \n",
       "5   qp03tu    1     12:15  0.023843    12                0                0   \n",
       "6   qp096d   25      3:30  0.007460     3             3479             3496   \n",
       "7   qp03nr   51     20:45  0.000293    20             1249             1206   \n",
       "8   qp093r   48      6:15  0.054170     6             3692             3835   \n",
       "9   qp03r2    4     22:15  0.123463    22             2423             2406   \n",
       "\n",
       "   day_over_hour_3  day_over_hour_4  day_over_hour_5  day_over_hour_6  \\\n",
       "0             1179             1198             1116             1149   \n",
       "1             2864             2790             2926             3156   \n",
       "2             3470             3653             3807             3637   \n",
       "3             3424             3664             3328             3619   \n",
       "4             3549             3587             3396             3547   \n",
       "5                0                0                0                0   \n",
       "6             3450             3454             3209             3458   \n",
       "7             1418             1190             1400             1631   \n",
       "8             3840             3894             3879             3881   \n",
       "9             2683                0                0                0   \n",
       "\n",
       "   day_over_hour_7  day_over_hour_mean_w_1_5  day_over_hour_min_w_1_5  \\\n",
       "0             1336                    1208.0                     1116   \n",
       "1             2857                    2839.4                     2697   \n",
       "2             3674                    3673.8                     3470   \n",
       "3             3751                    3521.0                     3328   \n",
       "4             3804                    3527.4                     3396   \n",
       "5                0                       0.0                        0   \n",
       "6             3697                    3417.6                     3209   \n",
       "7             1323                    1292.6                     1190   \n",
       "8             3640                    3828.0                     3692   \n",
       "9                0                    1502.4                        0   \n",
       "\n",
       "   day_over_hour_max_w_1_5  \n",
       "0                     1299  \n",
       "1                     2926  \n",
       "2                     3807  \n",
       "3                     3664  \n",
       "4                     3645  \n",
       "5                        0  \n",
       "6                     3496  \n",
       "7                     1418  \n",
       "8                     3894  \n",
       "9                     2683  "
      ]
     },
     "execution_count": 7,
     "metadata": {},
     "output_type": "execute_result"
    }
   ],
   "source": [
    "df[:10]"
   ]
  },
  {
   "cell_type": "code",
   "execution_count": 8,
   "metadata": {},
   "outputs": [],
   "source": [
    "df = df.drop(columns=['geohash6', 'day', 'timestamp', 'hour'])"
   ]
  },
  {
   "cell_type": "markdown",
   "metadata": {},
   "source": [
    "#### Evaluate importance with LGBM and RFE"
   ]
  },
  {
   "cell_type": "code",
   "execution_count": 47,
   "metadata": {
    "scrolled": false
   },
   "outputs": [
    {
     "name": "stdout",
     "output_type": "stream",
     "text": [
      "Current MSE: 0.024494417810371778\n"
     ]
    },
    {
     "data": {
      "application/vnd.plotly.v1+json": {
       "config": {
        "linkText": "Export to plot.ly",
        "plotlyServerURL": "https://plot.ly",
        "showLink": false
       },
       "data": [
        {
         "type": "bar",
         "uid": "2a674345-af3b-4e59-9653-a892e579fd17",
         "x": [
          "day_over_hour_1",
          "day_over_hour_7",
          "day_over_hour_3",
          "day_over_hour_6",
          "day_over_hour_max_w_1_5",
          "day_over_hour_min_w_1_5",
          "day_over_hour_2",
          "day_over_hour_4",
          "day_over_hour_5",
          "day_over_hour_mean_w_1_5"
         ],
         "y": [
          402,
          357,
          340,
          333,
          328,
          324,
          266,
          242,
          234,
          174
         ]
        }
       ],
       "layout": {
        "title": {
         "text": "day_over_hour importance",
         "x": 0,
         "xref": "paper"
        },
        "xaxis": {
         "title": {
          "font": {
           "color": "#7f7f7f",
           "family": "Courier New, monospace",
           "size": 18
          },
          "text": "Feature name"
         }
        },
        "yaxis": {
         "title": {
          "font": {
           "color": "#7f7f7f",
           "family": "Courier New, monospace",
           "size": 18
          },
          "text": "Importance"
         }
        }
       }
      },
      "text/html": [
       "<div>\n",
       "        \n",
       "        \n",
       "            <div id=\"29b26b81-dcda-4220-90ee-1e4a16e73fb9\" class=\"plotly-graph-div\" style=\"height:525px; width:100%;\"></div>\n",
       "            <script type=\"text/javascript\">\n",
       "                require([\"plotly\"], function(Plotly) {\n",
       "                    window.PLOTLYENV=window.PLOTLYENV || {};\n",
       "                    window.PLOTLYENV.BASE_URL='https://plot.ly';\n",
       "                    \n",
       "                if (document.getElementById(\"29b26b81-dcda-4220-90ee-1e4a16e73fb9\")) {\n",
       "                    Plotly.newPlot(\n",
       "                        '29b26b81-dcda-4220-90ee-1e4a16e73fb9',\n",
       "                        [{\"type\": \"bar\", \"uid\": \"2a674345-af3b-4e59-9653-a892e579fd17\", \"x\": [\"day_over_hour_1\", \"day_over_hour_7\", \"day_over_hour_3\", \"day_over_hour_6\", \"day_over_hour_max_w_1_5\", \"day_over_hour_min_w_1_5\", \"day_over_hour_2\", \"day_over_hour_4\", \"day_over_hour_5\", \"day_over_hour_mean_w_1_5\"], \"y\": [402, 357, 340, 333, 328, 324, 266, 242, 234, 174]}],\n",
       "                        {\"title\": {\"text\": \"day_over_hour importance\", \"x\": 0, \"xref\": \"paper\"}, \"xaxis\": {\"title\": {\"font\": {\"color\": \"#7f7f7f\", \"family\": \"Courier New, monospace\", \"size\": 18}, \"text\": \"Feature name\"}}, \"yaxis\": {\"title\": {\"font\": {\"color\": \"#7f7f7f\", \"family\": \"Courier New, monospace\", \"size\": 18}, \"text\": \"Importance\"}}},\n",
       "                        {\"showLink\": false, \"linkText\": \"Export to plot.ly\", \"plotlyServerURL\": \"https://plot.ly\", \"responsive\": true}\n",
       "                    ).then(function(){\n",
       "                            \n",
       "var gd = document.getElementById('29b26b81-dcda-4220-90ee-1e4a16e73fb9');\n",
       "var x = new MutationObserver(function (mutations, observer) {{\n",
       "        var display = window.getComputedStyle(gd).display;\n",
       "        if (!display || display === 'none') {{\n",
       "            console.log([gd, 'removed!']);\n",
       "            Plotly.purge(gd);\n",
       "            observer.disconnect();\n",
       "        }}\n",
       "}});\n",
       "\n",
       "// Listen for the removal of the full notebook cells\n",
       "var notebookContainer = gd.closest('#notebook-container');\n",
       "if (notebookContainer) {{\n",
       "    x.observe(notebookContainer, {childList: true});\n",
       "}}\n",
       "\n",
       "// Listen for the clearing of the current output cell\n",
       "var outputEl = gd.closest('.output');\n",
       "if (outputEl) {{\n",
       "    x.observe(outputEl, {childList: true});\n",
       "}}\n",
       "\n",
       "                        })\n",
       "                };\n",
       "                });\n",
       "            </script>\n",
       "        </div>"
      ]
     },
     "metadata": {},
     "output_type": "display_data"
    },
    {
     "name": "stdout",
     "output_type": "stream",
     "text": [
      "RLE result for checking best features: \n",
      "                    columns  worth\n",
      "0           day_over_hour_1   True\n",
      "1           day_over_hour_2  False\n",
      "2           day_over_hour_3  False\n",
      "3           day_over_hour_4  False\n",
      "4           day_over_hour_5  False\n",
      "5           day_over_hour_6   True\n",
      "6           day_over_hour_7   True\n",
      "7  day_over_hour_mean_w_1_5  False\n",
      "8   day_over_hour_min_w_1_5   True\n",
      "9   day_over_hour_max_w_1_5   True\n"
     ]
    }
   ],
   "source": [
    "best_features = check_effect_count(df, \"day_over_hour\")"
   ]
  },
  {
   "cell_type": "code",
   "execution_count": 45,
   "metadata": {},
   "outputs": [],
   "source": [
    "day_over_hour = df[best_features]\n",
    "day_over_hour.to_csv(\"day_over_hour.csv\")"
   ]
  },
  {
   "cell_type": "markdown",
   "metadata": {},
   "source": [
    "### Count by geo"
   ]
  },
  {
   "cell_type": "code",
   "execution_count": 6,
   "metadata": {},
   "outputs": [
    {
     "name": "stdout",
     "output_type": "stream",
     "text": [
      "Checking if path exist\n",
      "File has been downloaded!\n",
      "Done! Here are the extracted files/ folders\n",
      "Traffic Management\n",
      "./data/traffic_management/Traffic Management/training.csv\n"
     ]
    }
   ],
   "source": [
    "df = load_dataframe()\n",
    "df = add_additional_statistic_feature(df, \"day_over_geo\")"
   ]
  },
  {
   "cell_type": "code",
   "execution_count": 7,
   "metadata": {},
   "outputs": [
    {
     "data": {
      "text/html": [
       "<div>\n",
       "<style scoped>\n",
       "    .dataframe tbody tr th:only-of-type {\n",
       "        vertical-align: middle;\n",
       "    }\n",
       "\n",
       "    .dataframe tbody tr th {\n",
       "        vertical-align: top;\n",
       "    }\n",
       "\n",
       "    .dataframe thead th {\n",
       "        text-align: right;\n",
       "    }\n",
       "</style>\n",
       "<table border=\"1\" class=\"dataframe\">\n",
       "  <thead>\n",
       "    <tr style=\"text-align: right;\">\n",
       "      <th></th>\n",
       "      <th>geohash6</th>\n",
       "      <th>day</th>\n",
       "      <th>timestamp</th>\n",
       "      <th>demand</th>\n",
       "      <th>day_over_geo_1</th>\n",
       "      <th>day_over_geo_2</th>\n",
       "      <th>day_over_geo_3</th>\n",
       "      <th>day_over_geo_4</th>\n",
       "      <th>day_over_geo_5</th>\n",
       "      <th>day_over_geo_6</th>\n",
       "      <th>day_over_geo_7</th>\n",
       "      <th>day_over_geo_mean_w_1_5</th>\n",
       "      <th>day_over_geo_min_w_1_5</th>\n",
       "      <th>day_over_geo_max_w_1_5</th>\n",
       "    </tr>\n",
       "  </thead>\n",
       "  <tbody>\n",
       "    <tr>\n",
       "      <th>0</th>\n",
       "      <td>qp03wc</td>\n",
       "      <td>18</td>\n",
       "      <td>20:0</td>\n",
       "      <td>0.020072</td>\n",
       "      <td>96</td>\n",
       "      <td>96</td>\n",
       "      <td>96</td>\n",
       "      <td>94</td>\n",
       "      <td>93</td>\n",
       "      <td>96</td>\n",
       "      <td>96</td>\n",
       "      <td>95.0</td>\n",
       "      <td>93</td>\n",
       "      <td>96</td>\n",
       "    </tr>\n",
       "    <tr>\n",
       "      <th>1</th>\n",
       "      <td>qp03pn</td>\n",
       "      <td>10</td>\n",
       "      <td>14:30</td>\n",
       "      <td>0.024721</td>\n",
       "      <td>71</td>\n",
       "      <td>71</td>\n",
       "      <td>71</td>\n",
       "      <td>65</td>\n",
       "      <td>61</td>\n",
       "      <td>67</td>\n",
       "      <td>71</td>\n",
       "      <td>67.8</td>\n",
       "      <td>61</td>\n",
       "      <td>71</td>\n",
       "    </tr>\n",
       "    <tr>\n",
       "      <th>2</th>\n",
       "      <td>qp09sw</td>\n",
       "      <td>9</td>\n",
       "      <td>6:15</td>\n",
       "      <td>0.102821</td>\n",
       "      <td>91</td>\n",
       "      <td>91</td>\n",
       "      <td>83</td>\n",
       "      <td>82</td>\n",
       "      <td>91</td>\n",
       "      <td>91</td>\n",
       "      <td>96</td>\n",
       "      <td>87.6</td>\n",
       "      <td>82</td>\n",
       "      <td>91</td>\n",
       "    </tr>\n",
       "    <tr>\n",
       "      <th>3</th>\n",
       "      <td>qp0991</td>\n",
       "      <td>32</td>\n",
       "      <td>5:0</td>\n",
       "      <td>0.088755</td>\n",
       "      <td>84</td>\n",
       "      <td>82</td>\n",
       "      <td>84</td>\n",
       "      <td>81</td>\n",
       "      <td>75</td>\n",
       "      <td>87</td>\n",
       "      <td>76</td>\n",
       "      <td>81.2</td>\n",
       "      <td>75</td>\n",
       "      <td>84</td>\n",
       "    </tr>\n",
       "    <tr>\n",
       "      <th>4</th>\n",
       "      <td>qp090q</td>\n",
       "      <td>15</td>\n",
       "      <td>4:0</td>\n",
       "      <td>0.074468</td>\n",
       "      <td>81</td>\n",
       "      <td>64</td>\n",
       "      <td>77</td>\n",
       "      <td>76</td>\n",
       "      <td>69</td>\n",
       "      <td>73</td>\n",
       "      <td>76</td>\n",
       "      <td>73.4</td>\n",
       "      <td>64</td>\n",
       "      <td>81</td>\n",
       "    </tr>\n",
       "    <tr>\n",
       "      <th>5</th>\n",
       "      <td>qp03tu</td>\n",
       "      <td>1</td>\n",
       "      <td>12:15</td>\n",
       "      <td>0.023843</td>\n",
       "      <td>0</td>\n",
       "      <td>0</td>\n",
       "      <td>0</td>\n",
       "      <td>0</td>\n",
       "      <td>0</td>\n",
       "      <td>0</td>\n",
       "      <td>0</td>\n",
       "      <td>0.0</td>\n",
       "      <td>0</td>\n",
       "      <td>0</td>\n",
       "    </tr>\n",
       "    <tr>\n",
       "      <th>6</th>\n",
       "      <td>qp096d</td>\n",
       "      <td>25</td>\n",
       "      <td>3:30</td>\n",
       "      <td>0.007460</td>\n",
       "      <td>45</td>\n",
       "      <td>52</td>\n",
       "      <td>42</td>\n",
       "      <td>44</td>\n",
       "      <td>35</td>\n",
       "      <td>35</td>\n",
       "      <td>37</td>\n",
       "      <td>43.6</td>\n",
       "      <td>35</td>\n",
       "      <td>52</td>\n",
       "    </tr>\n",
       "    <tr>\n",
       "      <th>7</th>\n",
       "      <td>qp03nr</td>\n",
       "      <td>51</td>\n",
       "      <td>20:45</td>\n",
       "      <td>0.000293</td>\n",
       "      <td>85</td>\n",
       "      <td>87</td>\n",
       "      <td>85</td>\n",
       "      <td>80</td>\n",
       "      <td>88</td>\n",
       "      <td>92</td>\n",
       "      <td>92</td>\n",
       "      <td>85.0</td>\n",
       "      <td>80</td>\n",
       "      <td>88</td>\n",
       "    </tr>\n",
       "    <tr>\n",
       "      <th>8</th>\n",
       "      <td>qp093r</td>\n",
       "      <td>48</td>\n",
       "      <td>6:15</td>\n",
       "      <td>0.054170</td>\n",
       "      <td>82</td>\n",
       "      <td>82</td>\n",
       "      <td>88</td>\n",
       "      <td>88</td>\n",
       "      <td>86</td>\n",
       "      <td>86</td>\n",
       "      <td>81</td>\n",
       "      <td>85.2</td>\n",
       "      <td>82</td>\n",
       "      <td>88</td>\n",
       "    </tr>\n",
       "    <tr>\n",
       "      <th>9</th>\n",
       "      <td>qp03r2</td>\n",
       "      <td>4</td>\n",
       "      <td>22:15</td>\n",
       "      <td>0.123463</td>\n",
       "      <td>96</td>\n",
       "      <td>96</td>\n",
       "      <td>96</td>\n",
       "      <td>0</td>\n",
       "      <td>0</td>\n",
       "      <td>0</td>\n",
       "      <td>0</td>\n",
       "      <td>57.6</td>\n",
       "      <td>0</td>\n",
       "      <td>96</td>\n",
       "    </tr>\n",
       "  </tbody>\n",
       "</table>\n",
       "</div>"
      ],
      "text/plain": [
       "  geohash6  day timestamp    demand  day_over_geo_1  day_over_geo_2  \\\n",
       "0   qp03wc   18      20:0  0.020072              96              96   \n",
       "1   qp03pn   10     14:30  0.024721              71              71   \n",
       "2   qp09sw    9      6:15  0.102821              91              91   \n",
       "3   qp0991   32       5:0  0.088755              84              82   \n",
       "4   qp090q   15       4:0  0.074468              81              64   \n",
       "5   qp03tu    1     12:15  0.023843               0               0   \n",
       "6   qp096d   25      3:30  0.007460              45              52   \n",
       "7   qp03nr   51     20:45  0.000293              85              87   \n",
       "8   qp093r   48      6:15  0.054170              82              82   \n",
       "9   qp03r2    4     22:15  0.123463              96              96   \n",
       "\n",
       "   day_over_geo_3  day_over_geo_4  day_over_geo_5  day_over_geo_6  \\\n",
       "0              96              94              93              96   \n",
       "1              71              65              61              67   \n",
       "2              83              82              91              91   \n",
       "3              84              81              75              87   \n",
       "4              77              76              69              73   \n",
       "5               0               0               0               0   \n",
       "6              42              44              35              35   \n",
       "7              85              80              88              92   \n",
       "8              88              88              86              86   \n",
       "9              96               0               0               0   \n",
       "\n",
       "   day_over_geo_7  day_over_geo_mean_w_1_5  day_over_geo_min_w_1_5  \\\n",
       "0              96                     95.0                      93   \n",
       "1              71                     67.8                      61   \n",
       "2              96                     87.6                      82   \n",
       "3              76                     81.2                      75   \n",
       "4              76                     73.4                      64   \n",
       "5               0                      0.0                       0   \n",
       "6              37                     43.6                      35   \n",
       "7              92                     85.0                      80   \n",
       "8              81                     85.2                      82   \n",
       "9               0                     57.6                       0   \n",
       "\n",
       "   day_over_geo_max_w_1_5  \n",
       "0                      96  \n",
       "1                      71  \n",
       "2                      91  \n",
       "3                      84  \n",
       "4                      81  \n",
       "5                       0  \n",
       "6                      52  \n",
       "7                      88  \n",
       "8                      88  \n",
       "9                      96  "
      ]
     },
     "execution_count": 7,
     "metadata": {},
     "output_type": "execute_result"
    }
   ],
   "source": [
    "df[:10]"
   ]
  },
  {
   "cell_type": "code",
   "execution_count": 9,
   "metadata": {},
   "outputs": [],
   "source": [
    "df = df.drop(columns=['geohash6', 'day', 'timestamp'])"
   ]
  },
  {
   "cell_type": "markdown",
   "metadata": {},
   "source": [
    "#### Evaluate with LGBM and RFE"
   ]
  },
  {
   "cell_type": "code",
   "execution_count": 10,
   "metadata": {},
   "outputs": [
    {
     "name": "stdout",
     "output_type": "stream",
     "text": [
      "Current MSE: 0.016119975315116122\n"
     ]
    },
    {
     "data": {
      "application/vnd.plotly.v1+json": {
       "config": {
        "linkText": "Export to plot.ly",
        "plotlyServerURL": "https://plot.ly",
        "showLink": false
       },
       "data": [
        {
         "type": "bar",
         "uid": "178aa1f4-df5c-4e51-bace-ea4133b4a321",
         "x": [
          "day_over_geo_mean_w_1_5",
          "day_over_geo_6",
          "day_over_geo_7",
          "day_over_geo_1",
          "day_over_geo_min_w_1_5",
          "day_over_geo_2",
          "day_over_geo_3",
          "day_over_geo_4",
          "day_over_geo_max_w_1_5",
          "day_over_geo_5"
         ],
         "y": [
          495,
          426,
          385,
          337,
          305,
          276,
          206,
          198,
          193,
          179
         ]
        }
       ],
       "layout": {
        "title": {
         "text": "day_over_geo importance",
         "x": 0,
         "xref": "paper"
        },
        "xaxis": {
         "title": {
          "font": {
           "color": "#7f7f7f",
           "family": "Courier New, monospace",
           "size": 18
          },
          "text": "Feature name"
         }
        },
        "yaxis": {
         "title": {
          "font": {
           "color": "#7f7f7f",
           "family": "Courier New, monospace",
           "size": 18
          },
          "text": "Importance"
         }
        }
       }
      },
      "text/html": [
       "<div>\n",
       "        \n",
       "        \n",
       "            <div id=\"4baefb19-056e-45e6-b27a-ae50d0688b96\" class=\"plotly-graph-div\" style=\"height:525px; width:100%;\"></div>\n",
       "            <script type=\"text/javascript\">\n",
       "                require([\"plotly\"], function(Plotly) {\n",
       "                    window.PLOTLYENV=window.PLOTLYENV || {};\n",
       "                    window.PLOTLYENV.BASE_URL='https://plot.ly';\n",
       "                    \n",
       "                if (document.getElementById(\"4baefb19-056e-45e6-b27a-ae50d0688b96\")) {\n",
       "                    Plotly.newPlot(\n",
       "                        '4baefb19-056e-45e6-b27a-ae50d0688b96',\n",
       "                        [{\"type\": \"bar\", \"uid\": \"178aa1f4-df5c-4e51-bace-ea4133b4a321\", \"x\": [\"day_over_geo_mean_w_1_5\", \"day_over_geo_6\", \"day_over_geo_7\", \"day_over_geo_1\", \"day_over_geo_min_w_1_5\", \"day_over_geo_2\", \"day_over_geo_3\", \"day_over_geo_4\", \"day_over_geo_max_w_1_5\", \"day_over_geo_5\"], \"y\": [495, 426, 385, 337, 305, 276, 206, 198, 193, 179]}],\n",
       "                        {\"title\": {\"text\": \"day_over_geo importance\", \"x\": 0, \"xref\": \"paper\"}, \"xaxis\": {\"title\": {\"font\": {\"color\": \"#7f7f7f\", \"family\": \"Courier New, monospace\", \"size\": 18}, \"text\": \"Feature name\"}}, \"yaxis\": {\"title\": {\"font\": {\"color\": \"#7f7f7f\", \"family\": \"Courier New, monospace\", \"size\": 18}, \"text\": \"Importance\"}}},\n",
       "                        {\"showLink\": false, \"linkText\": \"Export to plot.ly\", \"plotlyServerURL\": \"https://plot.ly\", \"responsive\": true}\n",
       "                    ).then(function(){\n",
       "                            \n",
       "var gd = document.getElementById('4baefb19-056e-45e6-b27a-ae50d0688b96');\n",
       "var x = new MutationObserver(function (mutations, observer) {{\n",
       "        var display = window.getComputedStyle(gd).display;\n",
       "        if (!display || display === 'none') {{\n",
       "            console.log([gd, 'removed!']);\n",
       "            Plotly.purge(gd);\n",
       "            observer.disconnect();\n",
       "        }}\n",
       "}});\n",
       "\n",
       "// Listen for the removal of the full notebook cells\n",
       "var notebookContainer = gd.closest('#notebook-container');\n",
       "if (notebookContainer) {{\n",
       "    x.observe(notebookContainer, {childList: true});\n",
       "}}\n",
       "\n",
       "// Listen for the clearing of the current output cell\n",
       "var outputEl = gd.closest('.output');\n",
       "if (outputEl) {{\n",
       "    x.observe(outputEl, {childList: true});\n",
       "}}\n",
       "\n",
       "                        })\n",
       "                };\n",
       "                });\n",
       "            </script>\n",
       "        </div>"
      ]
     },
     "metadata": {},
     "output_type": "display_data"
    },
    {
     "name": "stdout",
     "output_type": "stream",
     "text": [
      "RLE result for checking best features: \n",
      "                   columns  worth\n",
      "0           day_over_geo_1   True\n",
      "1           day_over_geo_2  False\n",
      "2           day_over_geo_3  False\n",
      "3           day_over_geo_4  False\n",
      "4           day_over_geo_5  False\n",
      "5           day_over_geo_6   True\n",
      "6           day_over_geo_7   True\n",
      "7  day_over_geo_mean_w_1_5   True\n",
      "8   day_over_geo_min_w_1_5   True\n",
      "9   day_over_geo_max_w_1_5  False\n"
     ]
    }
   ],
   "source": [
    "best_features = check_effect_count(df, \"day_over_geo\")"
   ]
  },
  {
   "cell_type": "code",
   "execution_count": 12,
   "metadata": {},
   "outputs": [],
   "source": [
    "day_over_geo = df[best_features]\n",
    "day_over_geo.to_csv(\"day_over_geo.csv\")"
   ]
  },
  {
   "cell_type": "markdown",
   "metadata": {},
   "source": [
    "### Count by timestamp"
   ]
  },
  {
   "cell_type": "code",
   "execution_count": 14,
   "metadata": {},
   "outputs": [
    {
     "name": "stdout",
     "output_type": "stream",
     "text": [
      "Checking if path exist\n",
      "File has been downloaded!\n",
      "Done! Here are the extracted files/ folders\n",
      "Traffic Management\n",
      "./data/traffic_management/Traffic Management/training.csv\n"
     ]
    }
   ],
   "source": [
    "df = load_dataframe()\n",
    "df = add_additional_statistic_feature(df, \"day_over_timestamp\")"
   ]
  },
  {
   "cell_type": "code",
   "execution_count": 15,
   "metadata": {},
   "outputs": [
    {
     "data": {
      "text/html": [
       "<div>\n",
       "<style scoped>\n",
       "    .dataframe tbody tr th:only-of-type {\n",
       "        vertical-align: middle;\n",
       "    }\n",
       "\n",
       "    .dataframe tbody tr th {\n",
       "        vertical-align: top;\n",
       "    }\n",
       "\n",
       "    .dataframe thead th {\n",
       "        text-align: right;\n",
       "    }\n",
       "</style>\n",
       "<table border=\"1\" class=\"dataframe\">\n",
       "  <thead>\n",
       "    <tr style=\"text-align: right;\">\n",
       "      <th></th>\n",
       "      <th>geohash6</th>\n",
       "      <th>day</th>\n",
       "      <th>timestamp</th>\n",
       "      <th>demand</th>\n",
       "      <th>day_over_timestamp_1</th>\n",
       "      <th>day_over_timestamp_2</th>\n",
       "      <th>day_over_timestamp_3</th>\n",
       "      <th>day_over_timestamp_4</th>\n",
       "      <th>day_over_timestamp_5</th>\n",
       "      <th>day_over_timestamp_6</th>\n",
       "      <th>day_over_timestamp_7</th>\n",
       "      <th>day_over_timestamp_mean_w_1_5</th>\n",
       "      <th>day_over_timestamp_min_w_1_5</th>\n",
       "      <th>day_over_timestamp_max_w_1_5</th>\n",
       "    </tr>\n",
       "  </thead>\n",
       "  <tbody>\n",
       "    <tr>\n",
       "      <th>0</th>\n",
       "      <td>qp03wc</td>\n",
       "      <td>18</td>\n",
       "      <td>20:0</td>\n",
       "      <td>0.020072</td>\n",
       "      <td>300</td>\n",
       "      <td>279</td>\n",
       "      <td>265</td>\n",
       "      <td>275</td>\n",
       "      <td>271</td>\n",
       "      <td>288</td>\n",
       "      <td>330</td>\n",
       "      <td>278.0</td>\n",
       "      <td>265</td>\n",
       "      <td>300</td>\n",
       "    </tr>\n",
       "    <tr>\n",
       "      <th>1</th>\n",
       "      <td>qp03pn</td>\n",
       "      <td>10</td>\n",
       "      <td>14:30</td>\n",
       "      <td>0.024721</td>\n",
       "      <td>672</td>\n",
       "      <td>717</td>\n",
       "      <td>702</td>\n",
       "      <td>682</td>\n",
       "      <td>703</td>\n",
       "      <td>767</td>\n",
       "      <td>723</td>\n",
       "      <td>695.2</td>\n",
       "      <td>672</td>\n",
       "      <td>717</td>\n",
       "    </tr>\n",
       "    <tr>\n",
       "      <th>2</th>\n",
       "      <td>qp09sw</td>\n",
       "      <td>9</td>\n",
       "      <td>6:15</td>\n",
       "      <td>0.102821</td>\n",
       "      <td>939</td>\n",
       "      <td>931</td>\n",
       "      <td>872</td>\n",
       "      <td>921</td>\n",
       "      <td>945</td>\n",
       "      <td>913</td>\n",
       "      <td>920</td>\n",
       "      <td>921.6</td>\n",
       "      <td>872</td>\n",
       "      <td>945</td>\n",
       "    </tr>\n",
       "    <tr>\n",
       "      <th>3</th>\n",
       "      <td>qp0991</td>\n",
       "      <td>32</td>\n",
       "      <td>5:0</td>\n",
       "      <td>0.088755</td>\n",
       "      <td>914</td>\n",
       "      <td>893</td>\n",
       "      <td>852</td>\n",
       "      <td>919</td>\n",
       "      <td>858</td>\n",
       "      <td>931</td>\n",
       "      <td>944</td>\n",
       "      <td>887.2</td>\n",
       "      <td>852</td>\n",
       "      <td>919</td>\n",
       "    </tr>\n",
       "    <tr>\n",
       "      <th>4</th>\n",
       "      <td>qp090q</td>\n",
       "      <td>15</td>\n",
       "      <td>4:0</td>\n",
       "      <td>0.074468</td>\n",
       "      <td>912</td>\n",
       "      <td>860</td>\n",
       "      <td>892</td>\n",
       "      <td>881</td>\n",
       "      <td>838</td>\n",
       "      <td>892</td>\n",
       "      <td>954</td>\n",
       "      <td>876.6</td>\n",
       "      <td>838</td>\n",
       "      <td>912</td>\n",
       "    </tr>\n",
       "    <tr>\n",
       "      <th>5</th>\n",
       "      <td>qp03tu</td>\n",
       "      <td>1</td>\n",
       "      <td>12:15</td>\n",
       "      <td>0.023843</td>\n",
       "      <td>0</td>\n",
       "      <td>0</td>\n",
       "      <td>0</td>\n",
       "      <td>0</td>\n",
       "      <td>0</td>\n",
       "      <td>0</td>\n",
       "      <td>0</td>\n",
       "      <td>0.0</td>\n",
       "      <td>0</td>\n",
       "      <td>0</td>\n",
       "    </tr>\n",
       "    <tr>\n",
       "      <th>6</th>\n",
       "      <td>qp096d</td>\n",
       "      <td>25</td>\n",
       "      <td>3:30</td>\n",
       "      <td>0.007460</td>\n",
       "      <td>890</td>\n",
       "      <td>876</td>\n",
       "      <td>861</td>\n",
       "      <td>863</td>\n",
       "      <td>807</td>\n",
       "      <td>859</td>\n",
       "      <td>920</td>\n",
       "      <td>859.4</td>\n",
       "      <td>807</td>\n",
       "      <td>890</td>\n",
       "    </tr>\n",
       "    <tr>\n",
       "      <th>7</th>\n",
       "      <td>qp03nr</td>\n",
       "      <td>51</td>\n",
       "      <td>20:45</td>\n",
       "      <td>0.000293</td>\n",
       "      <td>338</td>\n",
       "      <td>311</td>\n",
       "      <td>380</td>\n",
       "      <td>302</td>\n",
       "      <td>336</td>\n",
       "      <td>412</td>\n",
       "      <td>362</td>\n",
       "      <td>333.4</td>\n",
       "      <td>302</td>\n",
       "      <td>380</td>\n",
       "    </tr>\n",
       "    <tr>\n",
       "      <th>8</th>\n",
       "      <td>qp093r</td>\n",
       "      <td>48</td>\n",
       "      <td>6:15</td>\n",
       "      <td>0.054170</td>\n",
       "      <td>921</td>\n",
       "      <td>959</td>\n",
       "      <td>972</td>\n",
       "      <td>970</td>\n",
       "      <td>958</td>\n",
       "      <td>976</td>\n",
       "      <td>907</td>\n",
       "      <td>956.0</td>\n",
       "      <td>921</td>\n",
       "      <td>972</td>\n",
       "    </tr>\n",
       "    <tr>\n",
       "      <th>9</th>\n",
       "      <td>qp03r2</td>\n",
       "      <td>4</td>\n",
       "      <td>22:15</td>\n",
       "      <td>0.123463</td>\n",
       "      <td>562</td>\n",
       "      <td>557</td>\n",
       "      <td>638</td>\n",
       "      <td>0</td>\n",
       "      <td>0</td>\n",
       "      <td>0</td>\n",
       "      <td>0</td>\n",
       "      <td>351.4</td>\n",
       "      <td>0</td>\n",
       "      <td>638</td>\n",
       "    </tr>\n",
       "  </tbody>\n",
       "</table>\n",
       "</div>"
      ],
      "text/plain": [
       "  geohash6  day timestamp    demand  day_over_timestamp_1  \\\n",
       "0   qp03wc   18      20:0  0.020072                   300   \n",
       "1   qp03pn   10     14:30  0.024721                   672   \n",
       "2   qp09sw    9      6:15  0.102821                   939   \n",
       "3   qp0991   32       5:0  0.088755                   914   \n",
       "4   qp090q   15       4:0  0.074468                   912   \n",
       "5   qp03tu    1     12:15  0.023843                     0   \n",
       "6   qp096d   25      3:30  0.007460                   890   \n",
       "7   qp03nr   51     20:45  0.000293                   338   \n",
       "8   qp093r   48      6:15  0.054170                   921   \n",
       "9   qp03r2    4     22:15  0.123463                   562   \n",
       "\n",
       "   day_over_timestamp_2  day_over_timestamp_3  day_over_timestamp_4  \\\n",
       "0                   279                   265                   275   \n",
       "1                   717                   702                   682   \n",
       "2                   931                   872                   921   \n",
       "3                   893                   852                   919   \n",
       "4                   860                   892                   881   \n",
       "5                     0                     0                     0   \n",
       "6                   876                   861                   863   \n",
       "7                   311                   380                   302   \n",
       "8                   959                   972                   970   \n",
       "9                   557                   638                     0   \n",
       "\n",
       "   day_over_timestamp_5  day_over_timestamp_6  day_over_timestamp_7  \\\n",
       "0                   271                   288                   330   \n",
       "1                   703                   767                   723   \n",
       "2                   945                   913                   920   \n",
       "3                   858                   931                   944   \n",
       "4                   838                   892                   954   \n",
       "5                     0                     0                     0   \n",
       "6                   807                   859                   920   \n",
       "7                   336                   412                   362   \n",
       "8                   958                   976                   907   \n",
       "9                     0                     0                     0   \n",
       "\n",
       "   day_over_timestamp_mean_w_1_5  day_over_timestamp_min_w_1_5  \\\n",
       "0                          278.0                           265   \n",
       "1                          695.2                           672   \n",
       "2                          921.6                           872   \n",
       "3                          887.2                           852   \n",
       "4                          876.6                           838   \n",
       "5                            0.0                             0   \n",
       "6                          859.4                           807   \n",
       "7                          333.4                           302   \n",
       "8                          956.0                           921   \n",
       "9                          351.4                             0   \n",
       "\n",
       "   day_over_timestamp_max_w_1_5  \n",
       "0                           300  \n",
       "1                           717  \n",
       "2                           945  \n",
       "3                           919  \n",
       "4                           912  \n",
       "5                             0  \n",
       "6                           890  \n",
       "7                           380  \n",
       "8                           972  \n",
       "9                           638  "
      ]
     },
     "execution_count": 15,
     "metadata": {},
     "output_type": "execute_result"
    }
   ],
   "source": [
    "df[:10]"
   ]
  },
  {
   "cell_type": "code",
   "execution_count": 16,
   "metadata": {},
   "outputs": [],
   "source": [
    "df = df.drop(columns=['geohash6', 'day', 'timestamp'])"
   ]
  },
  {
   "cell_type": "markdown",
   "metadata": {},
   "source": [
    "#### Evaluate with LGBM and RFE"
   ]
  },
  {
   "cell_type": "code",
   "execution_count": 17,
   "metadata": {},
   "outputs": [
    {
     "name": "stdout",
     "output_type": "stream",
     "text": [
      "Current MSE: 0.024534394278956\n"
     ]
    },
    {
     "data": {
      "application/vnd.plotly.v1+json": {
       "config": {
        "linkText": "Export to plot.ly",
        "plotlyServerURL": "https://plot.ly",
        "showLink": false
       },
       "data": [
        {
         "type": "bar",
         "uid": "3f8867e4-ff2f-4775-8cad-cc31979d73a1",
         "x": [
          "day_over_timestamp_1",
          "day_over_timestamp_7",
          "day_over_timestamp_6",
          "day_over_timestamp_3",
          "day_over_timestamp_min_w_1_5",
          "day_over_timestamp_5",
          "day_over_timestamp_2",
          "day_over_timestamp_max_w_1_5",
          "day_over_timestamp_4",
          "day_over_timestamp_mean_w_1_5"
         ],
         "y": [
          425,
          393,
          334,
          325,
          298,
          298,
          278,
          240,
          229,
          180
         ]
        }
       ],
       "layout": {
        "title": {
         "text": "day_over_timestamp importance",
         "x": 0,
         "xref": "paper"
        },
        "xaxis": {
         "title": {
          "font": {
           "color": "#7f7f7f",
           "family": "Courier New, monospace",
           "size": 18
          },
          "text": "Feature name"
         }
        },
        "yaxis": {
         "title": {
          "font": {
           "color": "#7f7f7f",
           "family": "Courier New, monospace",
           "size": 18
          },
          "text": "Importance"
         }
        }
       }
      },
      "text/html": [
       "<div>\n",
       "        \n",
       "        \n",
       "            <div id=\"b6da5dd2-0a5e-4eb1-a8e6-2d0d478dc41b\" class=\"plotly-graph-div\" style=\"height:525px; width:100%;\"></div>\n",
       "            <script type=\"text/javascript\">\n",
       "                require([\"plotly\"], function(Plotly) {\n",
       "                    window.PLOTLYENV=window.PLOTLYENV || {};\n",
       "                    window.PLOTLYENV.BASE_URL='https://plot.ly';\n",
       "                    \n",
       "                if (document.getElementById(\"b6da5dd2-0a5e-4eb1-a8e6-2d0d478dc41b\")) {\n",
       "                    Plotly.newPlot(\n",
       "                        'b6da5dd2-0a5e-4eb1-a8e6-2d0d478dc41b',\n",
       "                        [{\"type\": \"bar\", \"uid\": \"3f8867e4-ff2f-4775-8cad-cc31979d73a1\", \"x\": [\"day_over_timestamp_1\", \"day_over_timestamp_7\", \"day_over_timestamp_6\", \"day_over_timestamp_3\", \"day_over_timestamp_min_w_1_5\", \"day_over_timestamp_5\", \"day_over_timestamp_2\", \"day_over_timestamp_max_w_1_5\", \"day_over_timestamp_4\", \"day_over_timestamp_mean_w_1_5\"], \"y\": [425, 393, 334, 325, 298, 298, 278, 240, 229, 180]}],\n",
       "                        {\"title\": {\"text\": \"day_over_timestamp importance\", \"x\": 0, \"xref\": \"paper\"}, \"xaxis\": {\"title\": {\"font\": {\"color\": \"#7f7f7f\", \"family\": \"Courier New, monospace\", \"size\": 18}, \"text\": \"Feature name\"}}, \"yaxis\": {\"title\": {\"font\": {\"color\": \"#7f7f7f\", \"family\": \"Courier New, monospace\", \"size\": 18}, \"text\": \"Importance\"}}},\n",
       "                        {\"showLink\": false, \"linkText\": \"Export to plot.ly\", \"plotlyServerURL\": \"https://plot.ly\", \"responsive\": true}\n",
       "                    ).then(function(){\n",
       "                            \n",
       "var gd = document.getElementById('b6da5dd2-0a5e-4eb1-a8e6-2d0d478dc41b');\n",
       "var x = new MutationObserver(function (mutations, observer) {{\n",
       "        var display = window.getComputedStyle(gd).display;\n",
       "        if (!display || display === 'none') {{\n",
       "            console.log([gd, 'removed!']);\n",
       "            Plotly.purge(gd);\n",
       "            observer.disconnect();\n",
       "        }}\n",
       "}});\n",
       "\n",
       "// Listen for the removal of the full notebook cells\n",
       "var notebookContainer = gd.closest('#notebook-container');\n",
       "if (notebookContainer) {{\n",
       "    x.observe(notebookContainer, {childList: true});\n",
       "}}\n",
       "\n",
       "// Listen for the clearing of the current output cell\n",
       "var outputEl = gd.closest('.output');\n",
       "if (outputEl) {{\n",
       "    x.observe(outputEl, {childList: true});\n",
       "}}\n",
       "\n",
       "                        })\n",
       "                };\n",
       "                });\n",
       "            </script>\n",
       "        </div>"
      ]
     },
     "metadata": {},
     "output_type": "display_data"
    },
    {
     "name": "stdout",
     "output_type": "stream",
     "text": [
      "RLE result for checking best features: \n",
      "                         columns  worth\n",
      "0           day_over_timestamp_1   True\n",
      "1           day_over_timestamp_2  False\n",
      "2           day_over_timestamp_3   True\n",
      "3           day_over_timestamp_4  False\n",
      "4           day_over_timestamp_5  False\n",
      "5           day_over_timestamp_6   True\n",
      "6           day_over_timestamp_7   True\n",
      "7  day_over_timestamp_mean_w_1_5  False\n",
      "8   day_over_timestamp_min_w_1_5   True\n",
      "9   day_over_timestamp_max_w_1_5  False\n"
     ]
    }
   ],
   "source": [
    "best_features = check_effect_count(df, \"day_over_timestamp\")"
   ]
  },
  {
   "cell_type": "code",
   "execution_count": 18,
   "metadata": {},
   "outputs": [],
   "source": [
    "day_over_geo = df[best_features]\n",
    "day_over_geo.to_csv(\"day_over_timestamp.csv\")"
   ]
  },
  {
   "cell_type": "markdown",
   "metadata": {},
   "source": [
    "Some points:\n",
    "\n",
    "    * Overall, the count of geo seem to produce better result\n",
    "    * Most of the best features gather around 5, so we don't change it in the function (if the visualization show drastic change, we can modify this value specifically)"
   ]
  },
  {
   "cell_type": "markdown",
   "metadata": {},
   "source": [
    "## Examing by demand"
   ]
  },
  {
   "cell_type": "code",
   "execution_count": 4,
   "metadata": {},
   "outputs": [],
   "source": [
    "df = add_previous_hour_demand(df, lag_hour=1)"
   ]
  },
  {
   "cell_type": "code",
   "execution_count": 6,
   "metadata": {},
   "outputs": [],
   "source": [
    "group_by_index = df.sort_values(\"time_index\").groupby(\"time_index\")\n",
    "list_of_series = []\n",
    "for group in group_by_index:\n",
    "    list_of_series.append(group[1]['geo_demand_hour_1'].sum())"
   ]
  },
  {
   "cell_type": "code",
   "execution_count": 10,
   "metadata": {},
   "outputs": [
    {
     "data": {
      "image/png": "[encoded data removed]",
      "text/plain": [
       "<Figure size 432x288 with 1 Axes>"
      ]
     },
     "metadata": {},
     "output_type": "display_data"
    }
   ],
   "source": [
    "plot_pacf(list_of_series)\n",
    "plt.show()"
   ]
  },
  {
   "cell_type": "code",
   "execution_count": 11,
   "metadata": {},
   "outputs": [
    {
     "data": {
      "image/png": "[encoded data removed]",
      "text/plain": [
       "<Figure size 432x288 with 1 Axes>"
      ]
     },
     "metadata": {},
     "output_type": "display_data"
    }
   ],
   "source": [
    "plot_acf(list_of_series)\n",
    "plt.show()"
   ]
  },
  {
   "cell_type": "code",
   "execution_count": 24,
   "metadata": {},
   "outputs": [
    {
     "data": {
      "image/png": "[encoded data removed]",
      "text/plain": [
       "<Figure size 432x288 with 1 Axes>"
      ]
     },
     "metadata": {},
     "output_type": "display_data"
    }
   ],
   "source": [
    "plot_pacf(list_of_series[:7])\n",
    "plt.show()"
   ]
  },
  {
   "cell_type": "code",
   "execution_count": 25,
   "metadata": {},
   "outputs": [
    {
     "data": {
      "image/png": "[encoded data removed]",
      "text/plain": [
       "<Figure size 432x288 with 1 Axes>"
      ]
     },
     "metadata": {},
     "output_type": "display_data"
    }
   ],
   "source": [
    "plot_acf(list_of_series[:7])\n",
    "plt.show()"
   ]
  },
  {
   "cell_type": "markdown",
   "metadata": {},
   "source": [
    "From the first pacf plot, we can see a lot of value passing the 1 and -1 threshold, therefore we reduce the lag down to 7 (days of week) to check, and the result show that lag of 1 - 5 is better.\n",
    "\n",
    "By acf plot of the first 7 lag show little coorelation between the lag from 1-5 (however 5 and 1 seem to be better). Nevertheless, we still gonna use the lag of 1-5 for our evaluation"
   ]
  },
  {
   "cell_type": "markdown",
   "metadata": {},
   "source": [
    "### Exam demand of day"
   ]
  },
  {
   "cell_type": "code",
   "execution_count": 9,
   "metadata": {},
   "outputs": [],
   "source": [
    "df = add_previous_day_demand_by_geo(df, lag_day=1)"
   ]
  },
  {
   "cell_type": "code",
   "execution_count": 10,
   "metadata": {},
   "outputs": [],
   "source": [
    "group_by_index = df.sort_values(\"day\").groupby(\"day\")\n",
    "list_of_series = []\n",
    "for group in group_by_index:\n",
    "    list_of_series.append(group[1]['geo_demand_day_1'].sum())"
   ]
  },
  {
   "cell_type": "code",
   "execution_count": 11,
   "metadata": {},
   "outputs": [
    {
     "data": {
      "image/png": "[encoded data removed]",
      "text/plain": [
       "<Figure size 432x288 with 1 Axes>"
      ]
     },
     "metadata": {},
     "output_type": "display_data"
    }
   ],
   "source": [
    "plot_pacf(list_of_series)\n",
    "plt.show()"
   ]
  },
  {
   "cell_type": "code",
   "execution_count": 12,
   "metadata": {},
   "outputs": [
    {
     "data": {
      "image/png": "[encoded data removed]",
      "text/plain": [
       "<Figure size 432x288 with 1 Axes>"
      ]
     },
     "metadata": {},
     "output_type": "display_data"
    }
   ],
   "source": [
    "plot_acf(list_of_series)\n",
    "plt.show()"
   ]
  },
  {
   "cell_type": "markdown",
   "metadata": {},
   "source": [
    "Here we can see the pattern repeat, so selecting value day lag of 9 is justified\n",
    "\n",
    "However, we still need to inspect pacf more carefully"
   ]
  },
  {
   "cell_type": "code",
   "execution_count": 16,
   "metadata": {},
   "outputs": [
    {
     "data": {
      "image/png": "[encoded data removed]",
      "text/plain": [
       "<Figure size 432x288 with 1 Axes>"
      ]
     },
     "metadata": {},
     "output_type": "display_data"
    }
   ],
   "source": [
    "plot_acf(list_of_series[:50])\n",
    "plt.show()"
   ]
  },
  {
   "cell_type": "markdown",
   "metadata": {},
   "source": [
    "At 50 lag we still can't detect any sufficient coorelation. We have to use the same method as count and evaluate the effect of each lag on the result"
   ]
  },
  {
   "cell_type": "code",
   "execution_count": 20,
   "metadata": {},
   "outputs": [],
   "source": [
    "def add_additional_statistic_feature_day_geo(df, raw_feature_name):\n",
    "#     if raw_feature_name == \"day_over_hour\":\n",
    "    df = add_previous_day_demand_by_geo(df, lag_day=1)\n",
    "    df = add_previous_day_demand_by_geo(df, lag_day=2)\n",
    "    df = add_previous_day_demand_by_geo(df, lag_day=3)\n",
    "    df = add_previous_day_demand_by_geo(df, lag_day=4)\n",
    "    df = add_previous_day_demand_by_geo(df, lag_day=5)\n",
    "    df = add_previous_day_demand_by_geo(df, lag_day=6)\n",
    "    df = add_previous_day_demand_by_geo(df, lag_day=7)\n",
    "    df = add_previous_day_demand_by_geo(df, lag_day=8)\n",
    "    df = add_previous_day_demand_by_geo(df, lag_day=9)\n",
    "\n",
    "    \n",
    "    for i in range(1, 4):\n",
    "        df = add_statistic_features(df, raw_feature_name=raw_feature_name, \n",
    "                                                             start_time=i, \n",
    "                                                             time_range=5)\n",
    "        return df"
   ]
  },
  {
   "cell_type": "code",
   "execution_count": 21,
   "metadata": {},
   "outputs": [],
   "source": [
    "df = add_additional_statistic_feature_day_geo(df, \"geo_demand_day\")"
   ]
  },
  {
   "cell_type": "code",
   "execution_count": 22,
   "metadata": {},
   "outputs": [],
   "source": [
    "df = df.drop(columns=['geohash6', 'day', 'timestamp'])"
   ]
  },
  {
   "cell_type": "code",
   "execution_count": 24,
   "metadata": {},
   "outputs": [
    {
     "name": "stdout",
     "output_type": "stream",
     "text": [
      "Current MSE: 0.008853904812029278\n"
     ]
    },
    {
     "data": {
      "application/vnd.plotly.v1+json": {
       "config": {
        "linkText": "Export to plot.ly",
        "plotlyServerURL": "https://plot.ly",
        "showLink": false
       },
       "data": [
        {
         "type": "bar",
         "uid": "95ff2440-b0de-4804-9a38-e4ba89895137",
         "x": [
          "geo_demand_day_1",
          "geo_demand_day_5",
          "geo_demand_day_7",
          "geo_demand_day_2",
          "geo_demand_day_3",
          "geo_demand_day_9",
          "geo_demand_day_8",
          "geo_demand_day_4",
          "geo_demand_day_max_w_1_6",
          "geo_demand_day_6",
          "geo_demand_day_mean_w_1_6",
          "geo_demand_day_min_w_1_6"
         ],
         "y": [
          446,
          369,
          317,
          263,
          260,
          251,
          250,
          238,
          182,
          180,
          150,
          94
         ]
        }
       ],
       "layout": {
        "title": {
         "text": "geo_demand_day importance",
         "x": 0,
         "xref": "paper"
        },
        "xaxis": {
         "title": {
          "font": {
           "color": "#7f7f7f",
           "family": "Courier New, monospace",
           "size": 18
          },
          "text": "Feature name"
         }
        },
        "yaxis": {
         "title": {
          "font": {
           "color": "#7f7f7f",
           "family": "Courier New, monospace",
           "size": 18
          },
          "text": "Importance"
         }
        }
       }
      },
      "text/html": [
       "<div>\n",
       "        \n",
       "        \n",
       "            <div id=\"14a4f733-5311-431b-8d82-28a88c99bf62\" class=\"plotly-graph-div\" style=\"height:525px; width:100%;\"></div>\n",
       "            <script type=\"text/javascript\">\n",
       "                require([\"plotly\"], function(Plotly) {\n",
       "                    window.PLOTLYENV=window.PLOTLYENV || {};\n",
       "                    window.PLOTLYENV.BASE_URL='https://plot.ly';\n",
       "                    \n",
       "                if (document.getElementById(\"14a4f733-5311-431b-8d82-28a88c99bf62\")) {\n",
       "                    Plotly.newPlot(\n",
       "                        '14a4f733-5311-431b-8d82-28a88c99bf62',\n",
       "                        [{\"type\": \"bar\", \"uid\": \"95ff2440-b0de-4804-9a38-e4ba89895137\", \"x\": [\"geo_demand_day_1\", \"geo_demand_day_5\", \"geo_demand_day_7\", \"geo_demand_day_2\", \"geo_demand_day_3\", \"geo_demand_day_9\", \"geo_demand_day_8\", \"geo_demand_day_4\", \"geo_demand_day_max_w_1_6\", \"geo_demand_day_6\", \"geo_demand_day_mean_w_1_6\", \"geo_demand_day_min_w_1_6\"], \"y\": [446, 369, 317, 263, 260, 251, 250, 238, 182, 180, 150, 94]}],\n",
       "                        {\"title\": {\"text\": \"geo_demand_day importance\", \"x\": 0, \"xref\": \"paper\"}, \"xaxis\": {\"title\": {\"font\": {\"color\": \"#7f7f7f\", \"family\": \"Courier New, monospace\", \"size\": 18}, \"text\": \"Feature name\"}}, \"yaxis\": {\"title\": {\"font\": {\"color\": \"#7f7f7f\", \"family\": \"Courier New, monospace\", \"size\": 18}, \"text\": \"Importance\"}}},\n",
       "                        {\"showLink\": false, \"linkText\": \"Export to plot.ly\", \"plotlyServerURL\": \"https://plot.ly\", \"responsive\": true}\n",
       "                    ).then(function(){\n",
       "                            \n",
       "var gd = document.getElementById('14a4f733-5311-431b-8d82-28a88c99bf62');\n",
       "var x = new MutationObserver(function (mutations, observer) {{\n",
       "        var display = window.getComputedStyle(gd).display;\n",
       "        if (!display || display === 'none') {{\n",
       "            console.log([gd, 'removed!']);\n",
       "            Plotly.purge(gd);\n",
       "            observer.disconnect();\n",
       "        }}\n",
       "}});\n",
       "\n",
       "// Listen for the removal of the full notebook cells\n",
       "var notebookContainer = gd.closest('#notebook-container');\n",
       "if (notebookContainer) {{\n",
       "    x.observe(notebookContainer, {childList: true});\n",
       "}}\n",
       "\n",
       "// Listen for the clearing of the current output cell\n",
       "var outputEl = gd.closest('.output');\n",
       "if (outputEl) {{\n",
       "    x.observe(outputEl, {childList: true});\n",
       "}}\n",
       "\n",
       "                        })\n",
       "                };\n",
       "                });\n",
       "            </script>\n",
       "        </div>"
      ]
     },
     "metadata": {},
     "output_type": "display_data"
    },
    {
     "name": "stdout",
     "output_type": "stream",
     "text": [
      "RLE result for checking best features: \n",
      "                      columns  worth\n",
      "0            geo_demand_day_1   True\n",
      "1            geo_demand_day_2   True\n",
      "2            geo_demand_day_3   True\n",
      "3            geo_demand_day_4   True\n",
      "4            geo_demand_day_5   True\n",
      "5            geo_demand_day_6  False\n",
      "6            geo_demand_day_7   True\n",
      "7            geo_demand_day_8  False\n",
      "8            geo_demand_day_9  False\n",
      "9   geo_demand_day_mean_w_1_6  False\n",
      "10   geo_demand_day_min_w_1_6  False\n",
      "11   geo_demand_day_max_w_1_6  False\n"
     ]
    }
   ],
   "source": [
    "selected_feature = check_effect_count(df, \"geo_demand_day\")"
   ]
  },
  {
   "cell_type": "markdown",
   "metadata": {},
   "source": [
    "We gonna use the previous demand of day 1-5 and 7 (due to time limit)"
   ]
  },
  {
   "cell_type": "markdown",
   "metadata": {},
   "source": [
    "## Geo by cluster"
   ]
  },
  {
   "cell_type": "code",
   "execution_count": 4,
   "metadata": {},
   "outputs": [],
   "source": [
    "group_by_geo = df.groupby(\"geohash6\")\n",
    "x = []\n",
    "y = []\n",
    "\n",
    "for geo in group_by_geo:\n",
    "    current_demand_count = geo[1]['demand'].sum()\n",
    "    x.append(geo[0])\n",
    "    y.append(current_demand_count)"
   ]
  },
  {
   "cell_type": "code",
   "execution_count": 5,
   "metadata": {},
   "outputs": [],
   "source": [
    "coordinates = [list(geohash.decode(i)) for i in x]\n"
   ]
  },
  {
   "cell_type": "code",
   "execution_count": 6,
   "metadata": {},
   "outputs": [],
   "source": [
    "data = np.asarray(coordinates)"
   ]
  },
  {
   "cell_type": "code",
   "execution_count": 7,
   "metadata": {},
   "outputs": [],
   "source": [
    "np_y = np.asarray(y)\n",
    "np_y = np_y.reshape(np_y.shape[0], 1)"
   ]
  },
  {
   "cell_type": "code",
   "execution_count": 8,
   "metadata": {},
   "outputs": [],
   "source": [
    "data = np.append(data, np_y, axis=1)"
   ]
  },
  {
   "cell_type": "code",
   "execution_count": 9,
   "metadata": {},
   "outputs": [],
   "source": [
    "cluster_model = KMeans(n_clusters=3)\n"
   ]
  },
  {
   "cell_type": "code",
   "execution_count": 10,
   "metadata": {},
   "outputs": [
    {
     "data": {
      "text/plain": [
       "KMeans(algorithm='auto', copy_x=True, init='k-means++', max_iter=300,\n",
       "    n_clusters=3, n_init=10, n_jobs=1, precompute_distances='auto',\n",
       "    random_state=None, tol=0.0001, verbose=0)"
      ]
     },
     "execution_count": 10,
     "metadata": {},
     "output_type": "execute_result"
    }
   ],
   "source": [
    "cluster_model.fit(X=data)"
   ]
  },
  {
   "cell_type": "code",
   "execution_count": 15,
   "metadata": {},
   "outputs": [],
   "source": [
    "labels = cluster_model.predict(data)"
   ]
  },
  {
   "cell_type": "code",
   "execution_count": 12,
   "metadata": {},
   "outputs": [],
   "source": [
    "mapping = {0:\"low\", 1:\"medium\", 2:\"high\"}\n",
    "labels = [mapping[i] for i in labels]"
   ]
  },
  {
   "cell_type": "code",
   "execution_count": 13,
   "metadata": {},
   "outputs": [],
   "source": [
    "from sklearn.preprocessing import minmax_scale"
   ]
  },
  {
   "cell_type": "code",
   "execution_count": 14,
   "metadata": {
    "scrolled": false
   },
   "outputs": [
    {
     "data": {
      "text/plain": [
       "[Text(0,0.5,'y coordinate'), Text(0.5,0,'x coordinate')]"
      ]
     },
     "execution_count": 14,
     "metadata": {},
     "output_type": "execute_result"
    },
    {
     "data": {
      "image/png": "[encoded data removed]",
      "text/plain": [
       "<Figure size 432x288 with 1 Axes>"
      ]
     },
     "metadata": {},
     "output_type": "display_data"
    }
   ],
   "source": [
    "clustering_plot = sns.scatterplot(x=data[:,0], \n",
    "                    y = data[:,1], \n",
    "                    size=data[:,2],\n",
    "                   hue=labels)\n",
    "clustering_plot.set(xlabel='x coordinate', \n",
    "                    ylabel='y coordinate')"
   ]
  },
  {
   "cell_type": "markdown",
   "metadata": {},
   "source": [
    "By counting demand with regard to geohash6, we can see the distibution of total traffic density over the area. This could be a useful feature for our model"
   ]
  },
  {
   "cell_type": "code",
   "execution_count": 19,
   "metadata": {},
   "outputs": [],
   "source": [
    "geo_density_map = {}\n",
    "for i in range(len(labels)):\n",
    "    geo_density_map[x[i]] = labels[i]"
   ]
  },
  {
   "cell_type": "code",
   "execution_count": 21,
   "metadata": {},
   "outputs": [],
   "source": [
    "with open(\"database/geo_to_density.map\", \"wb\") as f:\n",
    "    pickle.dump(geo_density_map, f)"
   ]
  },
  {
   "cell_type": "markdown",
   "metadata": {},
   "source": [
    "# Conclusion"
   ]
  },
  {
   "cell_type": "markdown",
   "metadata": {},
   "source": [
    "Total additional features we're going to use:\n",
    "\n",
    "    * hour\n",
    "    * group_geohash (the first 4 character of geohash6)\n",
    "    * day_over_geo_1\n",
    "    * day_over_geo_6\n",
    "    * day_over_geo_7\n",
    "    * day_over_geo_mean_w_1_5\n",
    "    * day_over_geo_min_w_1_5\n",
    "    * day_over_hour_1\n",
    "    * day_over_hour_6\n",
    "    * day_over_hour_7\n",
    "    * day_over_hour_min_w_1_5\n",
    "    * day_over_hour_max_w_1_5\n",
    "    * day_over_timestamp_1\n",
    "    * day_over_timestamp_3\n",
    "    * day_over_timestamp_6\n",
    "    * day_over_timestamp_7\n",
    "    * day_over_timestamp_min_w_1_5\n",
    "    * geo_demand_hour_1\n",
    "    * geo_demand_hour_2\n",
    "    * geo_demand_hour_3\n",
    "    * geo_demand_hour_4\n",
    "    * geo_demand_hour_5\n",
    "    * geo_demand_day_1\n",
    "    * geo_demand_day_2\n",
    "    * geo_demand_day_3\n",
    "    * geo_demand_day_4\n",
    "    * geo_demand_day_5\n",
    "    * geo_demand_day_7\n",
    "    * density\n",
    "    * minute"
   ]
  },
  {
   "cell_type": "code",
   "execution_count": null,
   "metadata": {},
   "outputs": [],
   "source": []
  }
 ],
 "metadata": {
  "kernelspec": {
   "display_name": "Python 3",
   "language": "python",
   "name": "python3"
  },
  "language_info": {
   "codemirror_mode": {
    "name": "ipython",
    "version": 3
   },
   "file_extension": ".py",
   "mimetype": "text/x-python",
   "name": "python",
   "nbconvert_exporter": "python",
   "pygments_lexer": "ipython3",
   "version": "3.6.5"
  }
 },
 "nbformat": 4,
 "nbformat_minor": 2
}
